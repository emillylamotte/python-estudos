#Importar a base de dados + visualização da tabela

import pandas as pd 
tabela = pd.read_csv("advertising.csv")
display(tabela)

#Verificando as informações para tratar os dados se necessário

display(tabela.info())

#Plotando o histograma e o gráfico de coerção

import seaborn as sns 
import matplotlib.pyplot as plt

sns.pairplot(tabela)# grafico que une os tipos de propaganda com as vendas
plt.show()
sns.heatmap(tabela.corr(), cmap="Wistia", annot=True) 
